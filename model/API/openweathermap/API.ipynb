{
 "cells": [
  {
   "cell_type": "markdown",
   "id": "35e6c1ea-7602-40a2-ada4-30ea8659f148",
   "metadata": {},
   "source": [
    "### python openweathermap"
   ]
  },
  {
   "cell_type": "code",
   "execution_count": null,
   "id": "87e7195b-f86c-4fd7-8ab4-13b32642fe87",
   "metadata": {},
   "outputs": [],
   "source": [
    "https://api.openweathermap.org/data/2.5/weather?lat=35.16&lon=129.05&appid=de5d815cf642e5462143411f2568f1e7"
   ]
  },
  {
   "cell_type": "code",
   "execution_count": null,
   "id": "c29828c1-a957-4d2f-9ec3-cebe130a4860",
   "metadata": {},
   "outputs": [],
   "source": [
    "https://api.openweathermap.org/data/2.5/weather?q=Seoul&appid=de5d815cf642e5462143411f2568f1e7"
   ]
  },
  {
   "cell_type": "code",
   "execution_count": 14,
   "id": "d51e7099-3058-46e5-b50b-2bf56efbd2f6",
   "metadata": {},
   "outputs": [
    {
     "name": "stdout",
     "output_type": "stream",
     "text": [
      "{'coord': {'lon': 126.9778, 'lat': 37.5683}, 'weather': [{'id': 800, 'main': 'Clear', 'description': '맑음', 'icon': '01d'}], 'base': 'stations', 'main': {'temp': 22.29, 'feels_like': 22.04, 'temp_min': 20.66, 'temp_max': 22.76, 'pressure': 1017, 'humidity': 56}, 'visibility': 10000, 'wind': {'speed': 2.06, 'deg': 330}, 'clouds': {'all': 0}, 'dt': 1664245366, 'sys': {'type': 1, 'id': 8105, 'country': 'KR', 'sunrise': 1664227414, 'sunset': 1664270574}, 'timezone': 32400, 'id': 1835848, 'name': 'Seoul', 'cod': 200}\n"
     ]
    }
   ],
   "source": [
    "import requests\n",
    "import json\n",
    "\n",
    "city = \"Seoul\" #도시\n",
    "apiKey = \"de5d815cf642e5462143411f2568f1e7\"\n",
    "lang = 'kr' #언어\n",
    "api = f\"https://api.openweathermap.org/data/2.5/weather?q={city}&appid={apiKey}&lang={lang}\"\n",
    "\n",
    "result = requests.get(api)\n",
    "result = json.loads(result.text)\n",
    "\n",
    "print(result)"
   ]
  },
  {
   "cell_type": "code",
   "execution_count": null,
   "id": "c86aea82-ba87-4853-bfd9-14440710392a",
   "metadata": {},
   "outputs": [],
   "source": [
    "# name = result['name']\n",
    "# lon = result['coord']['lon']\n",
    "# lat = result['coord']['lat']\n",
    "# temperature = result['main']['temp']\n",
    "# humidity = result['main']['humidity']\n",
    "\n",
    "# print(name)\n",
    "# print(lon, ', ', lat)\n",
    "# print(temperature)\n",
    "# print(humidity)"
   ]
  },
  {
   "cell_type": "code",
   "execution_count": 50,
   "id": "a73a88e4-f858-440e-a1e4-f0eeacf1cdcf",
   "metadata": {},
   "outputs": [
    {
     "name": "stdout",
     "output_type": "stream",
     "text": [
      "흐림\n"
     ]
    }
   ],
   "source": [
    "import requests\n",
    "import json\n",
    "\n",
    "city = \"busan\" #도시\n",
    "apiKey = \"de5d815cf642e5462143411f2568f1e7\"\n",
    "lang = 'kr' #언어\n",
    "units = 'metric' #화씨 온도를 섭씨 온도로 변경\n",
    "api = f\"https://api.openweathermap.org/data/2.5/weather?q={city}&appid={apiKey}&lang={lang}&units={units}\"\n",
    "\n",
    "result = requests.get(api)\n",
    "result = json.loads(result.text)\n",
    "\n",
    "weather = result['weather'][0]['main']\n",
    "\n",
    "if weather == 'Clouds':\n",
    "    print('흐림')\n",
    "elif weather == 'Clear':\n",
    "    print('맑음')\n",
    "elif weather == 'Rain':\n",
    "    print('비')\n",
    "elif weather == 'Snow':\n",
    "    print('눈')\n",
    "else:\n",
    "    pass\n"
   ]
  },
  {
   "cell_type": "code",
   "execution_count": 26,
   "id": "58b16b3d-612f-4f13-bda8-8686ede98dc5",
   "metadata": {},
   "outputs": [
    {
     "data": {
      "text/plain": [
       "'snow'"
      ]
     },
     "execution_count": 26,
     "metadata": {},
     "output_type": "execute_result"
    }
   ],
   "source": [
    "'Clouds'\n",
    "'Clear'\n",
    "'rain'\n",
    "'snow'\n"
   ]
  },
  {
   "cell_type": "code",
   "execution_count": 37,
   "id": "a1abbd8e-34ac-4594-b4de-1c9dc70d74f5",
   "metadata": {},
   "outputs": [
    {
     "data": {
      "text/plain": [
       "'C:\\\\Users\\\\admin\\\\STUDY\\\\03_MAINPROJECT\\\\openweathermap'"
      ]
     },
     "execution_count": 37,
     "metadata": {},
     "output_type": "execute_result"
    }
   ],
   "source": [
    "pwd"
   ]
  },
  {
   "cell_type": "code",
   "execution_count": null,
   "id": "b9cd812a-539f-4bcc-a14f-3c433384f42b",
   "metadata": {},
   "outputs": [],
   "source": [
    "def weather(request):\n",
    "    city = \"busan\" #도시\n",
    "    apiKey = \"de5d815cf642e5462143411f2568f1e7\"\n",
    "    lang = 'kr' #언어\n",
    "    units = 'metric' #화씨 온도를 섭씨 온도로 변경\n",
    "    api = f\"https://api.openweathermap.org/data/2.5/weather?q={city}&appid={apiKey}&lang={lang}&units={units}\"\n",
    "\n",
    "    result = requests.get(api)\n",
    "    result = json.loads(result.text)\n",
    "\n",
    "    weather = result['weather'][0]['main']\n",
    "\n",
    "    if weather == 'Clouds':\n",
    "        print('흐림')\n",
    "    elif weather == 'Clear':\n",
    "        print('맑음')\n",
    "    elif weather == 'Rain':\n",
    "        print('비')\n",
    "    elif weather == 'Snow':\n",
    "        print('눈')\n",
    "    else:\n",
    "        pass\n",
    "    \n",
    "    return render(\n",
    "    request,\n",
    "    'diaryapp/main_login.html',\n",
    "    {}\n",
    ")"
   ]
  },
  {
   "cell_type": "code",
   "execution_count": null,
   "id": "a800dd0e-d4e4-4c60-b4a0-6f5bc40a735b",
   "metadata": {},
   "outputs": [],
   "source": []
  },
  {
   "cell_type": "code",
   "execution_count": null,
   "id": "ae5a24fc-cc4f-4442-a96e-12889fcb277f",
   "metadata": {},
   "outputs": [],
   "source": []
  }
 ],
 "metadata": {
  "kernelspec": {
   "display_name": "Python 3.10.6 ('diary')",
   "language": "python",
   "name": "python3"
  },
  "language_info": {
   "codemirror_mode": {
    "name": "ipython",
    "version": 3
   },
   "file_extension": ".py",
   "mimetype": "text/x-python",
   "name": "python",
   "nbconvert_exporter": "python",
   "pygments_lexer": "ipython3",
   "version": "3.10.6"
  },
  "vscode": {
   "interpreter": {
    "hash": "fd3c5157c0fbb6d954bd36590457e19bb591e5151ef97330451f8e3ae4256546"
   }
  }
 },
 "nbformat": 4,
 "nbformat_minor": 5
}
